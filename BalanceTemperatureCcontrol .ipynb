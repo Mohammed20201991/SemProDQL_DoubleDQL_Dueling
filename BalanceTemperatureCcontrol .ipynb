{
 "cells": [
  {
   "cell_type": "markdown",
   "metadata": {
    "id": "Ybe8CY07zp7D"
   },
   "source": [
    "## https://gym.openai.com/envs/CartPole-v1/\n",
    "<!-- https://github.com/openai/gym/tree/master/gym/envs/classic_control/cartpole.py -->\n",
    "\n",
    "#### 0. Install Dependencies"
   ]
  },
  {
   "cell_type": "code",
   "execution_count": 1,
   "metadata": {},
   "outputs": [],
   "source": [
    "# !pip install tensorflow==2.3.0\n",
    "# !pip install gym\n",
    "# !pip install keras\n",
    "# !pip install keras-rl2"
   ]
  },
  {
   "cell_type": "code",
   "execution_count": 2,
   "metadata": {
    "id": "rfdhGGMsw1H7"
   },
   "outputs": [],
   "source": [
    "import gym\n",
    "import random"
   ]
  },
  {
   "cell_type": "code",
   "execution_count": 3,
   "metadata": {},
   "outputs": [
    {
     "name": "stdout",
     "output_type": "stream",
     "text": [
      "Observation space: Box([-4.8000002e+00 -3.4028235e+38 -4.1887903e-01 -3.4028235e+38], [4.8000002e+00 3.4028235e+38 4.1887903e-01 3.4028235e+38], (4,), float32)\n",
      "Action space: Discrete(2)\n"
     ]
    }
   ],
   "source": [
    "env_name = \"CartPole-v1\"\n",
    "env = gym.make(env_name)\n",
    "print(\"Observation space:\", env.observation_space)\n",
    "print(\"Action space:\", env.action_space)"
   ]
  },
  {
   "cell_type": "code",
   "execution_count": 4,
   "metadata": {},
   "outputs": [],
   "source": [
    "class Agent():\n",
    "    def __init__(self, env):\n",
    "        self.action_size = env.action_space.n\n",
    "        print(\"Action size:\", self.action_size)\n",
    "        \n",
    "    def get_action(self, state):\n",
    "        pole_angle = state[2]\n",
    "        action = 0 if pole_angle < 0 else 1\n",
    "        return action"
   ]
  },
  {
   "cell_type": "code",
   "execution_count": 5,
   "metadata": {},
   "outputs": [
    {
     "name": "stdout",
     "output_type": "stream",
     "text": [
      "Action size: 2\n",
      "[ 0.01058497 -0.005363   -0.00768957  0.02799961] <__main__.Agent object at 0x000002B1B95F0EB0>\n",
      "action 0\n",
      "state:  [ 0.01047771 -0.20037384 -0.00712958  0.3182465 ] reward:  1.0 done:  False info:  {}\n",
      "action 0\n",
      "state:  [ 0.00647023 -0.39539352 -0.00076465  0.6086725 ] reward:  1.0 done:  False info:  {}\n",
      "action 0\n",
      "state:  [-0.00143764 -0.59050477  0.0114088   0.9011145 ] reward:  1.0 done:  False info:  {}\n",
      "action 1\n",
      "state:  [-0.01324773 -0.39553925  0.02943109  0.6120394 ] reward:  1.0 done:  False info:  {}\n",
      "action 1\n",
      "state:  [-0.02115852 -0.20084071  0.04167188  0.32876953] reward:  1.0 done:  False info:  {}\n",
      "action 1\n",
      "state:  [-0.02517533 -0.00633602  0.04824727  0.04951376] reward:  1.0 done:  False info:  {}\n",
      "action 1\n",
      "state:  [-0.02530205  0.1880621   0.04923754 -0.2275649 ] reward:  1.0 done:  False info:  {}\n",
      "action 1\n",
      "state:  [-0.02154081  0.3824471   0.04468624 -0.504319  ] reward:  1.0 done:  False info:  {}\n",
      "action 1\n",
      "state:  [-0.01389187  0.5769117   0.03459986 -0.7825914 ] reward:  1.0 done:  False info:  {}\n",
      "action 1\n",
      "state:  [-0.00235364  0.7715415   0.01894804 -1.064191  ] reward:  1.0 done:  False info:  {}\n",
      "action 1\n",
      "state:  [ 0.01307719  0.96640754 -0.00233578 -1.3508673 ] reward:  1.0 done:  False info:  {}\n",
      "action 0\n",
      "state:  [ 0.03240534  0.77131504 -0.02935313 -1.058916  ] reward:  1.0 done:  False info:  {}\n",
      "action 0\n",
      "state:  [ 0.04783164  0.576594   -0.05053145 -0.77558875] reward:  1.0 done:  False info:  {}\n",
      "action 0\n",
      "state:  [ 0.05936353  0.38220212 -0.06604322 -0.4992231 ] reward:  1.0 done:  False info:  {}\n",
      "action 0\n",
      "state:  [ 0.06700756  0.1880704  -0.07602768 -0.22806296] reward:  1.0 done:  False info:  {}\n",
      "action 0\n",
      "state:  [ 0.07076897 -0.00588738 -0.08058894  0.03970267] reward:  1.0 done:  False info:  {}\n",
      "action 0\n",
      "state:  [ 0.07065123 -0.19976676 -0.07979489  0.30591035] reward:  1.0 done:  False info:  {}\n",
      "action 0\n",
      "state:  [ 0.06665589 -0.3936663  -0.07367668  0.57239944] reward:  1.0 done:  False info:  {}\n",
      "action 0\n",
      "state:  [ 0.05878257 -0.58768207 -0.06222869  0.84099215] reward:  1.0 done:  False info:  {}\n",
      "action 0\n",
      "state:  [ 0.04702893 -0.78190184 -0.04540885  1.1134745 ] reward:  1.0 done:  False info:  {}\n"
     ]
    }
   ],
   "source": [
    "agent = Agent(env)\n",
    "state = env.reset()\n",
    "print(state,agent)\n",
    "for _ in range(20):\n",
    "    action = agent.get_action(state)\n",
    "    print('action',action)\n",
    "    state, reward, done, info = env.step(action)\n",
    "    print('state: ',state,'reward: ' ,reward, 'done: ',done,'info: ', info)\n",
    "    env.render()"
   ]
  },
  {
   "cell_type": "code",
   "execution_count": 1,
   "metadata": {},
   "outputs": [
    {
     "ename": "NameError",
     "evalue": "name 'env' is not defined",
     "output_type": "error",
     "traceback": [
      "\u001b[1;31m---------------------------------------------------------------------------\u001b[0m",
      "\u001b[1;31mNameError\u001b[0m                                 Traceback (most recent call last)",
      "\u001b[1;32m~\\AppData\\Local\\Temp/ipykernel_18360/3751641700.py\u001b[0m in \u001b[0;36m<module>\u001b[1;34m\u001b[0m\n\u001b[1;32m----> 1\u001b[1;33m \u001b[0menv\u001b[0m\u001b[1;33m.\u001b[0m\u001b[0mclose\u001b[0m\u001b[1;33m(\u001b[0m\u001b[1;33m)\u001b[0m\u001b[1;33m\u001b[0m\u001b[1;33m\u001b[0m\u001b[0m\n\u001b[0m",
      "\u001b[1;31mNameError\u001b[0m: name 'env' is not defined"
     ]
    }
   ],
   "source": [
    "env.close()"
   ]
  },
  {
   "cell_type": "code",
   "execution_count": null,
   "metadata": {},
   "outputs": [],
   "source": []
  }
 ],
 "metadata": {
  "colab": {
   "name": "Notebook for Topic 08 Video - Q-Learning - A Complete Example in Python.ipynb",
   "provenance": []
  },
  "kernelspec": {
   "display_name": "Python 3 (ipykernel)",
   "language": "python",
   "name": "python3"
  },
  "language_info": {
   "codemirror_mode": {
    "name": "ipython",
    "version": 3
   },
   "file_extension": ".py",
   "mimetype": "text/x-python",
   "name": "python",
   "nbconvert_exporter": "python",
   "pygments_lexer": "ipython3",
   "version": "3.9.7"
  }
 },
 "nbformat": 4,
 "nbformat_minor": 1
}
